{
 "cells": [
  {
   "cell_type": "code",
   "execution_count": 1,
   "id": "0fcd0147",
   "metadata": {},
   "outputs": [],
   "source": [
    "import pandas as pd\n",
    "# https://pypi.org/project/rotten-tomatoes-scraper/ "
   ]
  },
  {
   "cell_type": "code",
   "execution_count": 2,
   "id": "3fc1af5f",
   "metadata": {},
   "outputs": [
    {
     "name": "stdout",
     "output_type": "stream",
     "text": [
      "{'Score_Rotten': '81', 'Score_Audience': '74', 'Rating': 'PG-13', 'Genre': ['Comedy', 'Romance', 'Drama']}\n"
     ]
    }
   ],
   "source": [
    "from rotten_tomatoes_scraper.rt_scraper import MovieScraper\n",
    "\n",
    "movie_scraper = MovieScraper(movie_title='Vicky Cristina Barcelona')\n",
    "movie_scraper.extract_metadata()\n",
    "\n",
    "print(movie_scraper.metadata)"
   ]
  },
  {
   "cell_type": "code",
   "execution_count": 8,
   "id": "10546473",
   "metadata": {},
   "outputs": [
    {
     "name": "stdout",
     "output_type": "stream",
     "text": [
      "['The Irishman', 'Rolling Thunder Revue: A Bob Dylan Story by Martin Scorsese', 'Silence', 'The 50 Year Argument', 'The Wolf of Wall Street', 'George Harrison: Living in the Material World', 'Hugo', 'A Letter to Elia', 'Public Speaking', 'Shutter Island', 'Shine a Light', 'The Key to Reserva', 'The Departed', 'No Direction Home: Bob Dylan', 'The Aviator', 'Gangs of New York', 'My Voyage to Italy', 'Bringing Out the Dead', 'Kundun', 'Casino', 'A Personal Journey With Martin Scorsese Through American Movies', 'The Age of Innocence', 'Cape Fear', 'Goodfellas', 'New York Stories', 'The Last Temptation of Christ', 'The Color of Money', 'After Hours', 'The King of Comedy', 'Raging Bull', 'The Last Waltz', 'American Boy: A Profile of: Steven Prince', 'New York, New York', 'Taxi Driver', \"Alice Doesn't Live Here Anymore\", 'Italianamerican', 'Mean Streets', 'Boxcar Bertha', 'Woodstock', \"Who's That Knocking at My Door?\", 'The Big Shave', \"It's Not Just You, Murray!\", \"What's a Nice Girl Like You Doing in a Place Like This?\"]\n"
     ]
    }
   ],
   "source": [
    "from rotten_tomatoes_scraper.rt_scraper import DirectorScraper\n",
    "\n",
    "director_scraper = DirectorScraper(director_name='martin scorsese')\n",
    "director_scraper.extract_metadata()\n",
    "movie_titles = list(director_scraper.metadata.keys())\n",
    "\n",
    "print(movie_titles)"
   ]
  },
  {
   "cell_type": "code",
   "execution_count": 14,
   "id": "deb5d4e3",
   "metadata": {},
   "outputs": [
    {
     "data": {
      "text/html": [
       "<div>\n",
       "<style scoped>\n",
       "    .dataframe tbody tr th:only-of-type {\n",
       "        vertical-align: middle;\n",
       "    }\n",
       "\n",
       "    .dataframe tbody tr th {\n",
       "        vertical-align: top;\n",
       "    }\n",
       "\n",
       "    .dataframe thead th {\n",
       "        text-align: right;\n",
       "    }\n",
       "</style>\n",
       "<table border=\"1\" class=\"dataframe\">\n",
       "  <thead>\n",
       "    <tr style=\"text-align: right;\">\n",
       "      <th></th>\n",
       "      <th>movies</th>\n",
       "    </tr>\n",
       "  </thead>\n",
       "  <tbody>\n",
       "    <tr>\n",
       "      <th>0</th>\n",
       "      <td>The Irishman</td>\n",
       "    </tr>\n",
       "    <tr>\n",
       "      <th>1</th>\n",
       "      <td>Rolling Thunder Revue: A Bob Dylan Story by Ma...</td>\n",
       "    </tr>\n",
       "    <tr>\n",
       "      <th>2</th>\n",
       "      <td>Silence</td>\n",
       "    </tr>\n",
       "    <tr>\n",
       "      <th>3</th>\n",
       "      <td>The 50 Year Argument</td>\n",
       "    </tr>\n",
       "    <tr>\n",
       "      <th>4</th>\n",
       "      <td>The Wolf of Wall Street</td>\n",
       "    </tr>\n",
       "    <tr>\n",
       "      <th>5</th>\n",
       "      <td>George Harrison: Living in the Material World</td>\n",
       "    </tr>\n",
       "    <tr>\n",
       "      <th>6</th>\n",
       "      <td>Hugo</td>\n",
       "    </tr>\n",
       "    <tr>\n",
       "      <th>7</th>\n",
       "      <td>A Letter to Elia</td>\n",
       "    </tr>\n",
       "    <tr>\n",
       "      <th>8</th>\n",
       "      <td>Public Speaking</td>\n",
       "    </tr>\n",
       "    <tr>\n",
       "      <th>9</th>\n",
       "      <td>Shutter Island</td>\n",
       "    </tr>\n",
       "    <tr>\n",
       "      <th>10</th>\n",
       "      <td>Shine a Light</td>\n",
       "    </tr>\n",
       "    <tr>\n",
       "      <th>11</th>\n",
       "      <td>The Key to Reserva</td>\n",
       "    </tr>\n",
       "    <tr>\n",
       "      <th>12</th>\n",
       "      <td>The Departed</td>\n",
       "    </tr>\n",
       "    <tr>\n",
       "      <th>13</th>\n",
       "      <td>No Direction Home: Bob Dylan</td>\n",
       "    </tr>\n",
       "    <tr>\n",
       "      <th>14</th>\n",
       "      <td>The Aviator</td>\n",
       "    </tr>\n",
       "  </tbody>\n",
       "</table>\n",
       "</div>"
      ],
      "text/plain": [
       "                                               movies\n",
       "0                                        The Irishman\n",
       "1   Rolling Thunder Revue: A Bob Dylan Story by Ma...\n",
       "2                                             Silence\n",
       "3                                The 50 Year Argument\n",
       "4                             The Wolf of Wall Street\n",
       "5       George Harrison: Living in the Material World\n",
       "6                                                Hugo\n",
       "7                                    A Letter to Elia\n",
       "8                                     Public Speaking\n",
       "9                                      Shutter Island\n",
       "10                                      Shine a Light\n",
       "11                                 The Key to Reserva\n",
       "12                                       The Departed\n",
       "13                       No Direction Home: Bob Dylan\n",
       "14                                        The Aviator"
      ]
     },
     "execution_count": 14,
     "metadata": {},
     "output_type": "execute_result"
    }
   ],
   "source": [
    "list_name = movie_titles\n",
    "df = pd.DataFrame (list_name, columns = ['movies'],)\n",
    "df.head(15)"
   ]
  },
  {
   "cell_type": "code",
   "execution_count": 15,
   "id": "83f12757",
   "metadata": {},
   "outputs": [
    {
     "name": "stdout",
     "output_type": "stream",
     "text": [
      "{'Year': '1975', 'Score_Rotten': '98', 'Box_Office': '260870000'}\n"
     ]
    }
   ],
   "source": [
    "from rotten_tomatoes_scraper.rt_scraper import DirectorScraper\n",
    "\n",
    "director_url = 'https://www.rottentomatoes.com/celebrity/steven_spielberg'\n",
    "director_scraper = DirectorScraper(director_url=director_url)\n",
    "director_scraper.extract_metadata()\n",
    "\n",
    "print(director_scraper.metadata['Jaws'])"
   ]
  },
  {
   "cell_type": "code",
   "execution_count": 17,
   "id": "419df55b",
   "metadata": {},
   "outputs": [
    {
     "name": "stdout",
     "output_type": "stream",
     "text": [
      "$260,870,000.00\n"
     ]
    }
   ],
   "source": [
    "amount = 260870000\n",
    "\n",
    "currency = \"${:,.2f}\".format(amount)\n",
    "\n",
    "print(currency)"
   ]
  },
  {
   "cell_type": "code",
   "execution_count": 20,
   "id": "9653766a",
   "metadata": {},
   "outputs": [
    {
     "name": "stdout",
     "output_type": "stream",
     "text": [
      "defaultdict(<class 'dict'>, {'The Fabelmans': {'Year': '2022', 'Score_Rotten': '0', 'Box_Office': ''}, 'West Side Story': {'Year': '2021', 'Score_Rotten': '91', 'Box_Office': '38525928'}, 'Ready Player One': {'Year': '2018', 'Score_Rotten': '72', 'Box_Office': '136961758'}, 'The Post': {'Year': '2017', 'Score_Rotten': '88', 'Box_Office': '81424000'}, 'The BFG': {'Year': '2016', 'Score_Rotten': '74', 'Box_Office': '55472665'}, 'Bridge of Spies': {'Year': '2015', 'Score_Rotten': '91', 'Box_Office': '72264205'}, 'Lincoln': {'Year': '2012', 'Score_Rotten': '89', 'Box_Office': '182204440'}, 'War Horse': {'Year': '2011', 'Score_Rotten': '75', 'Box_Office': '79883359'}, 'The Adventures of Tintin': {'Year': '2011', 'Score_Rotten': '74', 'Box_Office': '77564037'}, 'Indiana Jones and the Kingdom of the Crystal Skull': {'Year': '2008', 'Score_Rotten': '78', 'Box_Office': '317011114'}, 'Munich': {'Year': '2005', 'Score_Rotten': '78', 'Box_Office': '47379090'}, 'War of the Worlds': {'Year': '2005', 'Score_Rotten': '75', 'Box_Office': '234277056'}, 'The Terminal': {'Year': '2004', 'Score_Rotten': '61', 'Box_Office': '77032279'}, 'Catch Me if You Can': {'Year': '2002', 'Score_Rotten': '96', 'Box_Office': '164435221'}, 'Minority Report': {'Year': '2002', 'Score_Rotten': '90', 'Box_Office': '132014112'}, 'A.I.: Artificial Intelligence': {'Year': '2001', 'Score_Rotten': '75', 'Box_Office': '78616689'}, 'Saving Private Ryan': {'Year': '1998', 'Score_Rotten': '93', 'Box_Office': ''}, 'Amistad': {'Year': '1997', 'Score_Rotten': '77', 'Box_Office': ''}, 'The Lost World: Jurassic Park': {'Year': '1997', 'Score_Rotten': '53', 'Box_Office': '229074524'}, \"Schindler's List\": {'Year': '1993', 'Score_Rotten': '98', 'Box_Office': '96570398'}, 'Jurassic Park': {'Year': '1993', 'Score_Rotten': '92', 'Box_Office': '401760000'}, 'Hook': {'Year': '1991', 'Score_Rotten': '29', 'Box_Office': '116347538'}, 'Always': {'Year': '1989', 'Score_Rotten': '65', 'Box_Office': ''}, 'Indiana Jones and the Last Crusade': {'Year': '1989', 'Score_Rotten': '88', 'Box_Office': '195078838'}, 'Empire of the Sun': {'Year': '1987', 'Score_Rotten': '75', 'Box_Office': '21998327'}, 'The Color Purple': {'Year': '1985', 'Score_Rotten': '81', 'Box_Office': '93372837'}, 'Indiana Jones and the Temple of Doom': {'Year': '1984', 'Score_Rotten': '84', 'Box_Office': ''}, 'Twilight Zone: The Movie': {'Year': '1983', 'Score_Rotten': '58', 'Box_Office': ''}, 'E.T. the Extra-Terrestrial': {'Year': '1982', 'Score_Rotten': '99', 'Box_Office': '435110554'}, 'Raiders of the Lost Ark': {'Year': '1981', 'Score_Rotten': '95', 'Box_Office': '248220000'}, '1941': {'Year': '1979', 'Score_Rotten': '42', 'Box_Office': ''}, 'Close Encounters of the Third Kind': {'Year': '1977', 'Score_Rotten': '94', 'Box_Office': '3077585'}, 'Jaws': {'Year': '1975', 'Score_Rotten': '98', 'Box_Office': '260870000'}, 'The Sugarland Express': {'Year': '1974', 'Score_Rotten': '85', 'Box_Office': ''}, 'Savage': {'Year': '1972', 'Score_Rotten': '0', 'Box_Office': ''}, 'Duel': {'Year': '1971', 'Score_Rotten': '88', 'Box_Office': ''}, 'Something Evil': {'Year': '1971', 'Score_Rotten': '0', 'Box_Office': ''}, 'Night Gallery': {'Year': '1969', 'Score_Rotten': '0', 'Box_Office': ''}, \"Amblin'\": {'Year': '1968', 'Score_Rotten': '0', 'Box_Office': ''}, 'Firelight': {'Year': '1964', 'Score_Rotten': '0', 'Box_Office': ''}})\n"
     ]
    }
   ],
   "source": [
    "from rotten_tomatoes_scraper.rt_scraper import DirectorScraper\n",
    "\n",
    "director_url = 'https://www.rottentomatoes.com/celebrity/steven_spielberg'\n",
    "director_scraper = DirectorScraper(director_url=director_url)\n",
    "director_scraper.extract_metadata()\n",
    "\n",
    "print(director_scraper.metadata)"
   ]
  },
  {
   "cell_type": "code",
   "execution_count": null,
   "id": "cf1a78b8",
   "metadata": {},
   "outputs": [],
   "source": []
  }
 ],
 "metadata": {
  "kernelspec": {
   "display_name": "mlenv",
   "language": "python",
   "name": "mlenv"
  },
  "language_info": {
   "codemirror_mode": {
    "name": "ipython",
    "version": 3
   },
   "file_extension": ".py",
   "mimetype": "text/x-python",
   "name": "python",
   "nbconvert_exporter": "python",
   "pygments_lexer": "ipython3",
   "version": "3.7.11"
  }
 },
 "nbformat": 4,
 "nbformat_minor": 5
}
