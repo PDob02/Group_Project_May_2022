{
 "cells": [
  {
   "cell_type": "code",
   "execution_count": 1,
   "id": "6bbf49e5",
   "metadata": {},
   "outputs": [],
   "source": [
    "# Import Dependencies\n"
   ]
  },
  {
   "cell_type": "code",
   "execution_count": 2,
   "id": "cdf88594",
   "metadata": {},
   "outputs": [],
   "source": [
    "# Connect to the database to create dataframe\n"
   ]
  },
  {
   "cell_type": "code",
   "execution_count": 1,
   "id": "f3cb0ee3",
   "metadata": {},
   "outputs": [],
   "source": [
    "# Create our features\n",
    "\n",
    "# Create our target\n"
   ]
  },
  {
   "cell_type": "code",
   "execution_count": 2,
   "id": "9355e03f",
   "metadata": {},
   "outputs": [],
   "source": [
    "# Split data into training and testing data\n"
   ]
  },
  {
   "cell_type": "code",
   "execution_count": 3,
   "id": "de2240cd",
   "metadata": {},
   "outputs": [],
   "source": [
    "# Scale the data with appropriate Scaler\n"
   ]
  },
  {
   "cell_type": "code",
   "execution_count": 4,
   "id": "dd438c07",
   "metadata": {},
   "outputs": [],
   "source": [
    "# Train the data on a Linear Regression model\n",
    "# Possibly use other regression models as well, such as Ridge Regression and LASSO regression to see which works best. Elastic-net\n"
   ]
  },
  {
   "cell_type": "code",
   "execution_count": null,
   "id": "990aeddd",
   "metadata": {},
   "outputs": [],
   "source": [
    "# Calculate accuracy score\n"
   ]
  }
 ],
 "metadata": {
  "kernelspec": {
   "display_name": "mlenv",
   "language": "python",
   "name": "mlenv"
  },
  "language_info": {
   "codemirror_mode": {
    "name": "ipython",
    "version": 3
   },
   "file_extension": ".py",
   "mimetype": "text/x-python",
   "name": "python",
   "nbconvert_exporter": "python",
   "pygments_lexer": "ipython3",
   "version": "3.7.11"
  }
 },
 "nbformat": 4,
 "nbformat_minor": 5
}
